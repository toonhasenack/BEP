{
 "cells": [
  {
   "cell_type": "code",
   "execution_count": 1,
   "id": "0dd8f032-65ec-484c-b668-8291b9ef6547",
   "metadata": {},
   "outputs": [],
   "source": [
    "import numpy as np\n",
    "import matplotlib.pyplot as plt\n",
    "from scipy.optimize import curve_fit"
   ]
  },
  {
   "cell_type": "code",
   "execution_count": 2,
   "id": "187759c4-e738-41fe-9fa1-121805697a45",
   "metadata": {},
   "outputs": [],
   "source": [
    "N_avg = np.genfromtxt(\"Functions/Result/N_avg.csv\", delimiter = ',')/100\n",
    "N_std = np.genfromtxt(\"Functions/Result/N_std.csv\", delimiter = ',')/100\n",
    "N_std[N_std == 0] = 1e-5"
   ]
  },
  {
   "cell_type": "code",
   "execution_count": 3,
   "id": "0aba9975-d770-433c-971e-98b51af833d0",
   "metadata": {},
   "outputs": [],
   "source": [
    "def func(x, a, b):\n",
    "    return a*x + b"
   ]
  },
  {
   "cell_type": "code",
   "execution_count": 4,
   "id": "a64e42e5-c0d9-468f-ba7c-da538844ca16",
   "metadata": {},
   "outputs": [],
   "source": [
    "xdata = np.linspace(1,50,50)/100"
   ]
  },
  {
   "cell_type": "code",
   "execution_count": 5,
   "id": "b4d6da3b-4e0f-4b6e-906c-cdbe3e9105bf",
   "metadata": {},
   "outputs": [],
   "source": [
    "a = []\n",
    "b = []\n",
    "ea = []\n",
    "eb = []"
   ]
  },
  {
   "cell_type": "code",
   "execution_count": 6,
   "id": "11e82829-3e79-465f-9f77-ee26158d1ca3",
   "metadata": {},
   "outputs": [],
   "source": [
    "ab, pcov = curve_fit(func, xdata[1:15], N_avg[1:15], sigma = N_std[1:15])\n",
    "a.append(ab[0])\n",
    "b.append(ab[1])\n",
    "ea.append(np.sqrt(pcov[0,0]))\n",
    "eb.append(np.sqrt(pcov[1,1]))"
   ]
  },
  {
   "cell_type": "code",
   "execution_count": 7,
   "id": "de1f4148-c682-4c51-aa3e-1ba9d193a4dd",
   "metadata": {},
   "outputs": [],
   "source": [
    "ab, pcov = curve_fit(func, xdata[14:22], N_avg[14:22], sigma = N_std[14:22])\n",
    "a.append(ab[0])\n",
    "b.append(ab[1])\n",
    "ea.append(np.sqrt(pcov[0,0]))\n",
    "eb.append(np.sqrt(pcov[1,1]))"
   ]
  },
  {
   "cell_type": "code",
   "execution_count": 8,
   "id": "97952723-e59c-41a4-b978-31ecaaea49a5",
   "metadata": {},
   "outputs": [],
   "source": [
    "ab, pcov = curve_fit(func, xdata[21:25], N_avg[21:25], sigma = N_std[21:25])\n",
    "a.append(ab[0])\n",
    "b.append(ab[1])\n",
    "ea.append(np.sqrt(pcov[0,0]))\n",
    "eb.append(np.sqrt(pcov[1,1]))"
   ]
  },
  {
   "cell_type": "code",
   "execution_count": 9,
   "id": "8105f733-f509-4970-98e1-07479a9ab85a",
   "metadata": {},
   "outputs": [
    {
     "data": {
      "image/png": "[encoded data removed]",
      "text/plain": [
       "<Figure size 648x432 with 1 Axes>"
      ]
     },
     "metadata": {
      "needs_background": "light"
     },
     "output_type": "display_data"
    }
   ],
   "source": [
    "\n",
    "\n",
    "fig = plt.figure(figsize = (9,6))\n",
    "ax = plt.axes()\n",
    "ax.errorbar(xdata, N_avg, N_std, capsize = 12, elinewidth = 1, c = 'k', marker = '.', markersize = 5, linewidth = 0)\n",
    "ax.plot(xdata[1:15], func(xdata[1:15], a[0], b[0]), c='k', linewidth = 1)\n",
    "ax.plot(xdata[14:22], func(xdata[14:22], a[1], b[1]), c='k', linewidth = 1)\n",
    "ax.plot(xdata[21:25], func(xdata[21:25], a[2], b[2]), c='k', linewidth = 1)\n",
    "ax.grid(True)\n",
    "ax.set_xlabel(r\"Density $\\rho_{stat.}$ [m$^{-2}$]\", size = 18)\n",
    "ax.set_ylabel(r\"Density $\\rho_{dyn.}$ [m$^{-2}$]\", size = 18)\n",
    "ax.set_xlim(0)\n",
    "ax.set_ylim(0)\n",
    "\n",
    "fig.savefig(\"phase_transition.png\")"
   ]
  },
  {
   "cell_type": "code",
   "execution_count": 10,
   "id": "ec3c0dae-8786-4388-8dd4-b68d1d9f63c3",
   "metadata": {},
   "outputs": [
    {
     "name": "stdout",
     "output_type": "stream",
     "text": [
      "(1.54 ± 0.035) rho + (0.011 ± 0.0031)\n",
      "(-0.212 ± 0.001) rho + (0.273 ± 0.0002)\n",
      "(3.156 ± 0.317) rho + (-0.481 ± 0.0758)\n"
     ]
    }
   ],
   "source": [
    "for i in range(3):\n",
    "    print(f\"({round(a[i],3)} ± {round(ea[i],3)}) rho + ({round(b[i],3)} ± {round(eb[i],4)})\")"
   ]
  },
  {
   "cell_type": "code",
   "execution_count": null,
   "id": "293dc563-31b2-428e-a1fa-ff64b693fad7",
   "metadata": {},
   "outputs": [],
   "source": []
  }
 ],
 "metadata": {
  "kernelspec": {
   "display_name": "Python 3 (ipykernel)",
   "language": "python",
   "name": "python3"
  },
  "language_info": {
   "codemirror_mode": {
    "name": "ipython",
    "version": 3
   },
   "file_extension": ".py",
   "mimetype": "text/x-python",
   "name": "python",
   "nbconvert_exporter": "python",
   "pygments_lexer": "ipython3",
   "version": "3.7.3"
  }
 },
 "nbformat": 4,
 "nbformat_minor": 5
}
