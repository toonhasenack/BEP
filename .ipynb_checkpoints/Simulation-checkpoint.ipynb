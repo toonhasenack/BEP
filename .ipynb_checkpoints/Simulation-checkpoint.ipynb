{
 "cells": [
  {
   "cell_type": "code",
   "execution_count": 1,
   "id": "b284e079-d596-4478-83b3-6945c2e7f146",
   "metadata": {},
   "outputs": [],
   "source": [
    "import numpy as np\n",
    "import matplotlib.pyplot as plt\n",
    "import matplotlib.animation as animation\n",
    "import pandas as pd\n",
    "from numba import jit\n",
    "from Functions.Hamiltonian_Solver import *"
   ]
  },
  {
   "cell_type": "code",
   "execution_count": 2,
   "id": "8c03f235-e1f8-44cd-bd78-895c1bcb4e85",
   "metadata": {},
   "outputs": [],
   "source": [
    "parameters = pd.read_csv(\"parameters.csv\")\n",
    "\n",
    "dim = np.array([60, 20])\n",
    "n = 10\n",
    "mu_c = 0.21\n",
    "mu = parameters[\"mu\"].values[0]*100/mu_c\n",
    "z = 2\n",
    "t = 0.1\n",
    "@jit(nopython=True)\n",
    "def U_func(x):\n",
    "    return 1\n",
    "\n",
    "@jit(nopython = True)\n",
    "def V_func(x, _):\n",
    "    return mu\n",
    "\n",
    "p = parameters[[\"p0\", \"p1\", \"p2\", \"p3\"]].values[0]\n",
    "@jit(nopython=True)\n",
    "def V_t_func(x, t):\n",
    "    if t < 0.25: \n",
    "        V_t = np.zeros(x.shape[0])\n",
    "    elif (t >= 0.25) & (t < 0.75):\n",
    "        d = np.divide(x, dim)\n",
    "        d1 = d - 1/2 + np.array([-p[0],p[1]])\n",
    "        d2 = d - 1/2 + np.array([p[0],p[1]])\n",
    "        V_t = -mu*(np.exp(-np.sum((d1/p[2:4])**2, axis = 1)) + np.exp(-np.sum((d2/p[2:4])**2, axis = 1)))\n",
    "    elif t >= 0.75:\n",
    "        V_t = np.zeros(x.shape[0])\n",
    "    return V_t"
   ]
  },
  {
   "cell_type": "code",
   "execution_count": 3,
   "id": "4113e5c4-1f89-4006-93fe-353f5a667c9e",
   "metadata": {},
   "outputs": [],
   "source": [
    "it = 10\n",
    "psi, g, param, _ = solve(n,dim,t,z,U_func,V_func,_,mu,it)"
   ]
  },
  {
   "cell_type": "code",
   "execution_count": 4,
   "id": "1f654545-9d62-4257-8026-5184d6db27d3",
   "metadata": {},
   "outputs": [
    {
     "name": "stderr",
     "output_type": "stream",
     "text": [
      "E:\\Documents\\Courses\\BEP\\hasenack\\Functions\\Hamiltonian_Solver.py:123: NumbaPerformanceWarning: \u001b[1m\u001b[1m\u001b[1m\u001b[1mnp.dot() is faster on contiguous arrays, called on (array(complex128, 2d, A), array(complex128, 2d, A))\u001b[0m\u001b[0m\u001b[0m\u001b[0m\n",
      "  U_hat = expm(-1j*t_s[i]*H[l,m])\n",
      "E:\\Documents\\Courses\\BEP\\hasenack\\Functions\\Hamiltonian_Solver.py:129: NumbaPerformanceWarning: \u001b[1m\u001b[1m'@' is faster on contiguous arrays, called on (array(complex128, 2d, C), array(complex128, 2d, A))\u001b[0m\u001b[0m\n",
      "  H_t_I = np.conj(U_hat) @ H_t.astype('complex_') @ U_hat\n",
      "E:\\Documents\\Courses\\BEP\\hasenack\\Functions\\Hamiltonian_Solver.py:136: NumbaPerformanceWarning: \u001b[1m\u001b[1m'@' is faster on contiguous arrays, called on (array(complex128, 2d, A), array(complex128, 1d, C))\u001b[0m\u001b[0m\n",
      "  psi_s[i,l,m] = U_hat @ psi_I_s[i,l,m]\n",
      "C:\\ProgramData\\Anaconda3\\lib\\site-packages\\numba\\core\\typing\\npydecl.py:965: NumbaPerformanceWarning: \u001b[1m'@' is faster on contiguous arrays, called on (array(complex128, 2d, C), array(complex128, 2d, A))\u001b[0m\n",
      "  warnings.warn(NumbaPerformanceWarning(msg))\n",
      "C:\\ProgramData\\Anaconda3\\lib\\site-packages\\numba\\core\\typing\\npydecl.py:965: NumbaPerformanceWarning: \u001b[1m'@' is faster on contiguous arrays, called on (array(complex128, 2d, A), array(complex128, 1d, C))\u001b[0m\n",
      "  warnings.warn(NumbaPerformanceWarning(msg))\n"
     ]
    }
   ],
   "source": [
    "t_interval = np.array([0.01, 1])\n",
    "t_points = 500\n",
    "\n",
    "pr = cProfile.Profile()\n",
    "pr.enable()\n",
    "psi_s, g_s = dynamics(n,dim,t,z,U_func,V_func,_,V_t_func,mu,psi,param,t_interval,t_points)\n",
    "pr.disable()\n",
    "result = io.StringIO()\n",
    "pstats.Stats(pr, stream = result).print_stats()\n",
    "result=result.getvalue()\n",
    "result = 'ncalls'+result.split('ncalls')[-1]\n",
    "result = '\\n'.join([','.join(line.rstrip().split(None,5)) for line in result.split('\\n')])\n",
    "with open('stats.csv', 'w+') as f:\n",
    "    f.write(result)\n",
    "    f.close()"
   ]
  },
  {
   "cell_type": "code",
   "execution_count": 5,
   "id": "4a9f7180-767b-43ac-b8a3-c2f83c4c4940",
   "metadata": {},
   "outputs": [],
   "source": [
    "rho_s = mu_c * g_s"
   ]
  },
  {
   "cell_type": "code",
   "execution_count": 9,
   "id": "e6599e2d-c987-40cc-acef-573f672d15d8",
   "metadata": {},
   "outputs": [
    {
     "data": {
      "image/png": "[encoded data removed]",
      "text/plain": [
       "<Figure size 648x432 with 2 Axes>"
      ]
     },
     "metadata": {
      "needs_background": "light"
     },
     "output_type": "display_data"
    }
   ],
   "source": [
    "fig, ax = plt.subplots(figsize = (9,6))\n",
    "ax.set_xlabel(r\"Lattice site $\\ell_x$\", size = 18)\n",
    "ax.set_ylabel(r\"Lattice site $\\ell_y$\", size = 18)\n",
    "\n",
    "t_s = linspace(t_interval[0], t_interval[1], t_points)\n",
    "im=plt.imshow(rho_s[0].T,vmin = np.min(rho_s), vmax = np.max(rho_s), interpolation='none')\n",
    "an=ax.annotate(f\"t = {round(t_s[0],2)}\", [0.85*dim[0], 0.9*dim[1]], size = 10, color = 'w')\n",
    "cb=plt.colorbar()\n",
    "cb.ax.get_yaxis().labelpad = 30\n",
    "cb.ax.set_ylabel(r\"Density $\\rho_\\ell$\", size = 18, rotation = 270)\n",
    "plt.gca().invert_yaxis()\n",
    "\n",
    "# animation function.  This is called sequentially\n",
    "def animate(i):\n",
    "    im.set_array(rho_s[i].T)\n",
    "    an.set_text(f\"t = {round(t_s[i],2)}\")\n",
    "    return [im]\n",
    "\n",
    "ani = animation.FuncAnimation(fig, animate, blit = True, interval = 20, save_count = t_points)\n",
    "ani.save(\"vis.mp4\")"
   ]
  },
  {
   "cell_type": "code",
   "execution_count": null,
   "id": "bacdc599-3335-4f8d-908e-67ad2f2eb3d7",
   "metadata": {},
   "outputs": [],
   "source": []
  }
 ],
 "metadata": {
  "kernelspec": {
   "display_name": "Python 3 (ipykernel)",
   "language": "python",
   "name": "python3"
  },
  "language_info": {
   "codemirror_mode": {
    "name": "ipython",
    "version": 3
   },
   "file_extension": ".py",
   "mimetype": "text/x-python",
   "name": "python",
   "nbconvert_exporter": "python",
   "pygments_lexer": "ipython3",
   "version": "3.7.3"
  }
 },
 "nbformat": 4,
 "nbformat_minor": 5
}
